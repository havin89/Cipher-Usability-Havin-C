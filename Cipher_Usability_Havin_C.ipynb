{
  "nbformat": 4,
  "nbformat_minor": 0,
  "metadata": {
    "colab": {
      "provenance": [],
      "authorship_tag": "ABX9TyPCXjdJtvePN1OHkIoEFnyU",
      "include_colab_link": true
    },
    "kernelspec": {
      "name": "python3",
      "display_name": "Python 3"
    },
    "language_info": {
      "name": "python"
    }
  },
  "cells": [
    {
      "cell_type": "markdown",
      "metadata": {
        "id": "view-in-github",
        "colab_type": "text"
      },
      "source": [
        "<a href=\"https://colab.research.google.com/github/havin89/Cipher-Usability-Havin-C/blob/main/Cipher_Usability_Havin_C.ipynb\" target=\"_parent\"><img src=\"https://colab.research.google.com/assets/colab-badge.svg\" alt=\"Open In Colab\"/></a>"
      ]
    },
    {
      "cell_type": "code",
      "execution_count": null,
      "metadata": {
        "id": "p_34bjs0_Foo"
      },
      "outputs": [],
      "source": [
        "#This program is the starter code for the Cipher Usability Project.\n",
        "# This code is inspired by Cracking Codes with Python: An Introduction to Building and Breaking Ciphers by Al Sweigart https://www.nostarch.com/crackingcodes (BSD Licensed)\n",
        "\n",
        "import string\n",
        "\n",
        "# Global variables\n",
        "initialPosition = 0\n",
        "shiftedPosition = 0\n",
        "shiftedMessage = \"\"\n",
        "lettersLower = string.ascii_lowercase\n",
        "lettersUpper = string.ascii_uppercase\n",
        "numbers = string.digits\n",
        "symbols = string.punctuation\n",
        "possibleCharacters = lettersLower + lettersUpper + numbers + symbols\n",
        "\n",
        "# Define the function called encryptOrDecrypt\n",
        "def encryptOrDecrypt():\n",
        "  global shiftedPosition\n",
        "  if mode.lower() == \"encrypt\":\n",
        "    shiftedPosition = initialPosition + key\n",
        "  elif mode.lower() == \"decrypt\":\n",
        "    shiftedPosition = initialPosition - key\n",
        "\n",
        "# Define the function called wraparound\n",
        "def wraparound():\n",
        "  global shiftedPosition\n",
        "  if shiftedPosition >= len(possibleCharacters):\n",
        "    shiftedPosition = shiftedPosition - len(possibleCharacters)\n",
        "  elif shiftedPosition < 0:\n",
        "    shiftedPosition = shiftedPosition + len(possibleCharacters)\n",
        "\n",
        "\n",
        "# Run code\n",
        "\n",
        "# Introduction\n",
        "print(\"Welcome! This program will encrypt or decrypt your secret message using the Caesar cipher. \\n\\nWhen creating your message, you may only choose from the following characters: \" + possibleCharacters + \"\\n\\nLet's get started!\\n\")\n",
        "\n",
        "# Receive user input\n",
        "initialMessage = input(\"What is your message?: \")\n",
        "key = int(input(\"What is the key? Choose a number from 0 to 93:  \"))\n",
        "mode = input(\"Do you want to encrypt or decrypt?: \")\n",
        "\n",
        "# Encrypt or decrypt the message\n",
        "for character in initialMessage:\n",
        "  if character in possibleCharacters:\n",
        "    initialPosition = possibleCharacters.find(character)\n",
        "    encryptOrDecrypt()\n",
        "    wraparound()\n",
        "\n",
        "\n",
        "\n",
        "    shiftedMessage = shiftedMessage + possibleCharacters[shiftedPosition]\n",
        "\n",
        "  else:\n",
        "    shiftedMessage = shiftedMessage + character\n",
        "\n",
        "# Print the shifted message\n",
        "print(\"Your \" + mode.lower() + \"ed message is: \" + shiftedMessage)"
      ]
    }
  ]
}